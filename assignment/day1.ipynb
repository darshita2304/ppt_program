{
 "cells": [
  {
   "attachments": {},
   "cell_type": "markdown",
   "metadata": {},
   "source": [
    "<!-- Author/Code By : Darshita Paghadal -->\n"
   ]
  },
  {
   "attachments": {},
   "cell_type": "markdown",
   "metadata": {},
   "source": [
    "### Code By: Darshita Paghadal\n",
    "### PPT Assignment"
   ]
  },
  {
   "cell_type": "code",
   "execution_count": 2,
   "metadata": {},
   "outputs": [
    {
     "data": {
      "text/plain": [
       "'olleh'"
      ]
     },
     "execution_count": 2,
     "metadata": {},
     "output_type": "execute_result"
    }
   ],
   "source": [
    "# 1. Write a Python program to reverse a string without using any built-in string reversal functions.\n",
    "s = \"hello\"\n",
    "s[::-1]"
   ]
  },
  {
   "cell_type": "code",
   "execution_count": 2,
   "metadata": {},
   "outputs": [
    {
     "name": "stdout",
     "output_type": "stream",
     "text": [
      "String is not palindrom\n"
     ]
    }
   ],
   "source": [
    "# 2. Implement a function to check if a given string is a palindrome.\n",
    "s = \"this\"\n",
    "\n",
    "def ispalindrome(s):\n",
    "        ispalin = True\n",
    "\n",
    "        for front in range(0,int(len(s)/2)):\n",
    "                if (s[front] == s[(len(s)-(front+1))]):\n",
    "                        continue\n",
    "                else:\n",
    "                        ispalin = False\n",
    "                        break;\n",
    "        return ispalin\n",
    "\n",
    "print(\"String is palindrom\") if ispalindrome(s) else print(\"String is not palindrom\") "
   ]
  },
  {
   "cell_type": "code",
   "execution_count": 4,
   "metadata": {},
   "outputs": [
    {
     "name": "stdout",
     "output_type": "stream",
     "text": [
      "maximum = 9\n"
     ]
    }
   ],
   "source": [
    "# 3. Write a program to find the largest element in a given list.\n",
    "lst = [3,6,2,6,9]\n",
    "\n",
    "maxi = 0\n",
    "\n",
    "for i in lst:\n",
    "    maxi = i if i>maxi else maxi\n",
    "    \n",
    "print(\"maximum = {}\".format(maxi))"
   ]
  },
  {
   "cell_type": "code",
   "execution_count": 3,
   "metadata": {},
   "outputs": [
    {
     "name": "stdout",
     "output_type": "stream",
     "text": [
      "{1: 1, 2: 1, 3: 2, 4: 1, 5: 2}\n",
      "the element 1 occurs 2 times\n",
      "the element 2 occurs 3 times\n",
      "the element 3 occurs 2 times\n",
      "the element 4 occurs 2 times\n",
      "the element 5 occurs 2 times\n"
     ]
    }
   ],
   "source": [
    "# 4. Implement a function to count the occurrence of each element in a list\n",
    "lst = [1,2,3,3,4,5,5]\n",
    "\n",
    "my_dict = dict()\n",
    "\n",
    "for i in lst:\n",
    "    # print(i)\n",
    "    try:\n",
    "        my_dict[i] = my_dict[i] + 1\n",
    "    except KeyError:\n",
    "        my_dict[i] = 1\n",
    "        \n",
    "print(my_dict)\n",
    "\n",
    "##2nd way\n",
    "\n",
    "l = [1, 1, 2, 2, 2, 3, 3, 4, 4, 5, 5]\n",
    "# ele=1\n",
    "for j in set(l):\n",
    "    x=[i for i in l if i==j]\n",
    "    print(\"the element\",j,\"occurs\",len(x),\"times\")\n",
    "\n"
   ]
  },
  {
   "cell_type": "code",
   "execution_count": 6,
   "metadata": {},
   "outputs": [
    {
     "name": "stdout",
     "output_type": "stream",
     "text": [
      "12\n"
     ]
    }
   ],
   "source": [
    "# 5. Write a Python program to find the second largest number in a list.\n",
    "lst = [5,6,9,5,6,12,67]\n",
    "\n",
    "maxi = 0\n",
    "lst.sort()\n",
    "\n",
    "print(lst[len(lst) - 2])"
   ]
  },
  {
   "cell_type": "code",
   "execution_count": 7,
   "metadata": {},
   "outputs": [
    {
     "data": {
      "text/plain": [
       "[5, 6, 9, 12, 67]"
      ]
     },
     "execution_count": 7,
     "metadata": {},
     "output_type": "execute_result"
    }
   ],
   "source": [
    "# 6. Implement a function to remove duplicate elements from a list.\n",
    "lst = [5,6,9,5,6,12,67]\n",
    "\n",
    "def remove_duplicate(lst):\n",
    "    return set(lst)\n",
    "\n",
    "\n",
    "def remove_duplicate_(lst):\n",
    "    lst.sort()\n",
    "    \n",
    "    new_lst = []\n",
    "    [new_lst.append(i) for i in lst if i not in new_lst]\n",
    "    return new_lst\n",
    "\n",
    "remove_duplicate(lst)\n",
    "\n",
    "remove_duplicate_(lst)\n"
   ]
  },
  {
   "cell_type": "code",
   "execution_count": 3,
   "metadata": {},
   "outputs": [
    {
     "name": "stdout",
     "output_type": "stream",
     "text": [
      "Factorial of 45 is 119622220865480194561963161495657715064383733760000000000\n"
     ]
    }
   ],
   "source": [
    "# 7. Write a program to calculate the factorial of a given number.\n",
    "\n",
    "x = int(input(\"Enter number for factorial\"))\n",
    "\n",
    "ans = 1\n",
    "for i in range(1,x+1):\n",
    "    ans = ans * i\n",
    "    \n",
    "print(\"Factorial of {} is {}\".format(x,ans))"
   ]
  },
  {
   "cell_type": "code",
   "execution_count": 9,
   "metadata": {},
   "outputs": [
    {
     "name": "stdout",
     "output_type": "stream",
     "text": [
      "Number is not prime\n"
     ]
    }
   ],
   "source": [
    "# 8. Implement a function to check if a given number is prime.\n",
    "\n",
    "x = int(input(\"Enter number for prime test\"))\n",
    "\n",
    "isTrue = False\n",
    "\n",
    "for i in range(2,x):\n",
    "    if(x%i) == 0:\n",
    "        isTrue = True\n",
    "        break\n",
    "        \n",
    "print(\"Number is not prime\") if isTrue else print(\"Number is prime\") "
   ]
  },
  {
   "cell_type": "code",
   "execution_count": 10,
   "metadata": {},
   "outputs": [
    {
     "name": "stdout",
     "output_type": "stream",
     "text": [
      "[-2, -1, 0, 1, 2, 3, 4]\n"
     ]
    }
   ],
   "source": [
    "# 9. Write a Python program to sort a list of integers in ascending order.\n",
    "\n",
    "my_list = [4, 2, 3, -1, -2, 0, 1]\n",
    "\n",
    "for i in range(len(my_list)):\n",
    "    for j in range(i + 1, len(my_list)):\n",
    "\n",
    "        if my_list[i] > my_list[j]:\n",
    "            my_list[i], my_list[j] = my_list[j], my_list[i]\n",
    "\n",
    "print(my_list)"
   ]
  },
  {
   "cell_type": "code",
   "execution_count": 11,
   "metadata": {},
   "outputs": [
    {
     "name": "stdout",
     "output_type": "stream",
     "text": [
      "7\n"
     ]
    }
   ],
   "source": [
    "# 10. Implement a function to find the sum of all numbers in a list.\n",
    "my_list = [4, 2, 3, -1, -2, 0, 1]\n",
    "\n",
    "res = 0\n",
    "\n",
    "for i in range(len(my_list)):\n",
    "    res = res + my_list[i]\n",
    "    \n",
    "print(res)"
   ]
  },
  {
   "cell_type": "code",
   "execution_count": 12,
   "metadata": {},
   "outputs": [
    {
     "name": "stdout",
     "output_type": "stream",
     "text": [
      "[4, -1, 0, 1]\n"
     ]
    }
   ],
   "source": [
    "# 11. Write a program to find the common elements between two lists.\n",
    "\n",
    "my_list1 = [4, 2, 3, -1, -2, 0, 1]\n",
    "\n",
    "my_list2 = [21, 31, -1, -21, 0, 1,4]\n",
    "\n",
    "common_list = []\n",
    "\n",
    "for i in my_list1:\n",
    "    for j in my_list2:\n",
    "        if i == j:\n",
    "            common_list.append(i)\n",
    "            \n",
    "print(common_list)            "
   ]
  },
  {
   "cell_type": "code",
   "execution_count": 13,
   "metadata": {},
   "outputs": [
    {
     "name": "stdout",
     "output_type": "stream",
     "text": [
      "The strings are anagrams.\n"
     ]
    }
   ],
   "source": [
    "# 12. Implement a function to check if a given string is an anagram of another string.\n",
    "\n",
    "from collections import Counter\n",
    " \n",
    "def check(s1, s2):\n",
    "    if(Counter(s1) == Counter(s2)):\n",
    "        print(\"The strings are anagrams.\")\n",
    "    else:\n",
    "        print(\"The strings aren't anagrams.\")\n",
    " \n",
    " \n",
    "\n",
    "s1 = \"listen\"\n",
    "s2 = \"silent\"\n",
    "check(s1, s2)\n",
    "\n",
    "# print(Counter(s1))\n",
    "    "
   ]
  },
  {
   "cell_type": "code",
   "execution_count": 14,
   "metadata": {},
   "outputs": [
    {
     "name": "stdout",
     "output_type": "stream",
     "text": [
      "All possible strings are : \n",
      "asd  ads  sad  sda  das  dsa  "
     ]
    }
   ],
   "source": [
    "# 13. Write a Python program to generate all permutations of a given string.\n",
    "\n",
    "def permute(s, answer):\n",
    "    if (len(s) == 0):\n",
    "        print(answer, end = \"  \")\n",
    "        return\n",
    "     \n",
    "    for i in range(len(s)):\n",
    "        ch = s[i]\n",
    "        left_substr = s[0:i]\n",
    "        right_substr = s[i + 1:]\n",
    "        rest = left_substr + right_substr\n",
    "        permute(rest, answer + ch)\n",
    " \n",
    "# Driver Code\n",
    "answer = \"\"\n",
    "s = input(\"Enter the string : \")\n",
    "print(\"All possible strings are : \")\n",
    "permute(s, answer)  \n",
    "    "
   ]
  },
  {
   "cell_type": "code",
   "execution_count": 15,
   "metadata": {},
   "outputs": [
    {
     "name": "stdout",
     "output_type": "stream",
     "text": [
      "[0, 1, 1, 2, 3, 5, 8, 13, 21, 34]\n"
     ]
    }
   ],
   "source": [
    "# 14. Implement a function to calculate the Fibonacci sequence up to a given number of terms.\n",
    "\n",
    "fibo = [0,1]\n",
    "\n",
    "def generate_fibonacci(n):\n",
    "    if(n == 2):\n",
    "        print(fibo)\n",
    "    else:\n",
    "        num = fibo[len(fibo)-1] + fibo[len(fibo)-2]\n",
    "        fibo.append(num)\n",
    "        generate_fibonacci(n-1)\n",
    "        \n",
    "        \n",
    "generate_fibonacci(10)"
   ]
  },
  {
   "cell_type": "code",
   "execution_count": 16,
   "metadata": {},
   "outputs": [
    {
     "name": "stdout",
     "output_type": "stream",
     "text": [
      "[1, 2, 3, 4, 5, 6, 7, 8, 9]\n",
      "5\n"
     ]
    }
   ],
   "source": [
    "# 15. Write a program to find the median of a list of numbers.\n",
    "\n",
    "lst = [1,2,3,4,5,6,7,8,9]\n",
    "\n",
    "lst = sorted(lst)\n",
    "\n",
    "print(lst)\n",
    "\n",
    "ind = int(len(lst)/2)\n",
    "med = len(lst)%2\n",
    "\n",
    "# print(ind)\n",
    "\n",
    "if med == 0:\n",
    "    median = (lst[ind] + lst[ind+1])/2\n",
    "else:\n",
    "    median = lst[ind]\n",
    "    \n",
    "print(median)"
   ]
  },
  {
   "cell_type": "code",
   "execution_count": 17,
   "metadata": {},
   "outputs": [
    {
     "name": "stdout",
     "output_type": "stream",
     "text": [
      "List is not in non-decreasing\n"
     ]
    }
   ],
   "source": [
    "# 16. Implement a function to check if a given list is sorted in non-decreasing order.\n",
    "\n",
    "def check_ascending(lst):\n",
    "    \n",
    "    for i in range(0,len(lst)-1):\n",
    "        if(lst[i]<=lst[i+1]):\n",
    "            continue\n",
    "        else:\n",
    "            return False\n",
    "    return True\n",
    "    \n",
    "        \n",
    "inOrder = check_ascending([1,7,2,3,4])\n",
    "\n",
    "print(\"List is in non-decreasing\") if inOrder else print(\"List is not in non-decreasing\") "
   ]
  },
  {
   "cell_type": "code",
   "execution_count": 18,
   "metadata": {},
   "outputs": [
    {
     "name": "stdout",
     "output_type": "stream",
     "text": [
      "[1, 2, 3, 4, 5, 9]\n"
     ]
    }
   ],
   "source": [
    "# 17. Write a Python program to find the intersection of two lists.\n",
    "\n",
    "def common(lst1, lst2):\n",
    "    lst3 = [value for value in lst1 if value in lst2]\n",
    "    return lst3\n",
    " \n",
    "# Driver Code\n",
    "lst1 = [1,2,3,4,5,6,7,8,9]\n",
    "lst2 = [1,2,3,4,5,9]\n",
    "print(common(lst1, lst2))"
   ]
  },
  {
   "cell_type": "code",
   "execution_count": 19,
   "metadata": {},
   "outputs": [
    {
     "name": "stdout",
     "output_type": "stream",
     "text": [
      "Maximum subarray sum is 7 and Array is [4, -1, -2, 1, 5]\n"
     ]
    }
   ],
   "source": [
    "# 18. Implement a function to find the maximum subarray sum in a given list.\n",
    "\n",
    "# sum = {}\n",
    "\n",
    "\n",
    "\n",
    "def find_subarray(lst):\n",
    "    \n",
    "    m = 0\n",
    "    \n",
    "    for i in range(0,len(lst)):\n",
    "        \n",
    "        if ((sum(lst[i:(len(lst)-1)]))> m) : # triming from starting from array\n",
    "            m = sum(lst[i:(len(lst)-1)])\n",
    "            maxArr = list(lst[i:(len(lst)-1)])    \n",
    "        if ((sum(lst[0:(len(lst)-i-1)]))>m): # triming from ending..\n",
    "            m = (sum(lst[0:(len(lst)-i-1)]))\n",
    "            marArr = list(lst[0:(len(lst)-i-1)])         \n",
    "    \n",
    "    print(\"Maximum subarray sum is {} and Array is {}\".format(m, maxArr))\n",
    "\n",
    "\n",
    "maxArr = []    \n",
    "find_subarray([-2, -3, 4, -1, -2, 1, 5, -3])"
   ]
  },
  {
   "cell_type": "code",
   "execution_count": 20,
   "metadata": {},
   "outputs": [
    {
     "name": "stdout",
     "output_type": "stream",
     "text": [
      "h\n",
      "e\n",
      "l\n",
      "l\n",
      "o\n",
      "String without vowells = hll\n"
     ]
    }
   ],
   "source": [
    "# 19. Write a program to remove all vowels from a given string.\n",
    "\n",
    "vowels = ['a','e','i','o','u']\n",
    "\n",
    "s = \"hello\"\n",
    "\n",
    "for i in s:\n",
    "    print(i)\n",
    "\n",
    "ss = [i for i in s if i not in vowels]\n",
    "\n",
    "print(f\"String without vowells = {''.join(ss)}\")"
   ]
  },
  {
   "cell_type": "code",
   "execution_count": 21,
   "metadata": {},
   "outputs": [
    {
     "name": "stdout",
     "output_type": "stream",
     "text": [
      "india is this \n"
     ]
    }
   ],
   "source": [
    "# 20. Implement a function to reverse the order of words in a given sentence.\n",
    "\n",
    "sent = \"this is india\"\n",
    "new_sent = \"\"\n",
    "for i in sent.split(\" \"):\n",
    "    new_sent = i +\" \" + new_sent\n",
    "    \n",
    "print(new_sent)"
   ]
  },
  {
   "cell_type": "code",
   "execution_count": 22,
   "metadata": {},
   "outputs": [],
   "source": [
    "# 21. Write a Python program to check if two strings are anagrams of each other.\n",
    "\n",
    "#refere problem number - 12.."
   ]
  },
  {
   "cell_type": "code",
   "execution_count": 23,
   "metadata": {},
   "outputs": [
    {
     "name": "stdout",
     "output_type": "stream",
     "text": [
      "first non-repeating character is = H\n"
     ]
    }
   ],
   "source": [
    "# 22. Implement a function to find the first non-repeating character in a string.\n",
    "\n",
    "from collections import Counter\n",
    "\n",
    "def find_nonrep(s):\n",
    "    \n",
    "    dic = dict(Counter(s))\n",
    "    # print(type(dic))\n",
    "    # return\n",
    "\n",
    "    \n",
    "    \n",
    "    for key,val in dic.items():\n",
    "        if(val == 1):\n",
    "            print(f\"first non-repeating character is = {key}\")\n",
    "            return\n",
    "    \n",
    "    print(\"All chars are repeates more than 1 times..\")    \n",
    "    return\n",
    "    \n",
    "find_nonrep(\"Hello\")\n"
   ]
  },
  {
   "cell_type": "code",
   "execution_count": 24,
   "metadata": {},
   "outputs": [
    {
     "name": "stdout",
     "output_type": "stream",
     "text": [
      "[1, 2, 17]\n"
     ]
    }
   ],
   "source": [
    "# 23. Write a program to find the prime factors of a given number.\n",
    "\n",
    "x = int(input(\"Enter number for prime factors\"))\n",
    "\n",
    "isTrue = False\n",
    "lst = [1]\n",
    "for i in range(2,x):\n",
    "    if(x%i) == 0:\n",
    "        lst.append(i)\n",
    "        \n",
    "print(lst)"
   ]
  },
  {
   "cell_type": "code",
   "execution_count": 25,
   "metadata": {},
   "outputs": [
    {
     "name": "stdout",
     "output_type": "stream",
     "text": [
      "4 is a power of 2\n"
     ]
    }
   ],
   "source": [
    "# 24. Implement a function to check if a given number is a power of two.\n",
    "import math\n",
    "\n",
    "def Log2(x):\n",
    "    return (math.log10(x) / math.log10(2));\n",
    "    \n",
    "    \n",
    "def isPowerOfTwo(n):\n",
    "    return (math.ceil(Log2(n)) == math.floor(Log2(n)));\n",
    "\n",
    "n = 4\n",
    "\n",
    "if(isPowerOfTwo(n)):\n",
    "    print(f\"{n} is a power of 2\")\n",
    "else:\n",
    "    print(f\"{n} is not a power of 2\")"
   ]
  },
  {
   "cell_type": "code",
   "execution_count": 68,
   "metadata": {},
   "outputs": [
    {
     "name": "stdout",
     "output_type": "stream",
     "text": [
      "[1, 2, 3, 4, 5]\n",
      "[1, 2, 3, 4, 5]\n"
     ]
    }
   ],
   "source": [
    "# 25. Write a Python program to merge two sorted lists into a single sorted list.\n",
    "\n",
    "lst1=[1,3,5]\n",
    "lst2 = [2,4]\n",
    "\n",
    "lst = sorted(lst1 + lst2)\n",
    "\n",
    "print(lst)\n",
    "\n",
    "#---- Or ---\n",
    "\n",
    "l1 = len(lst1)\n",
    "l2 = len(lst2)\n",
    "\n",
    "l_1, l_2 = 0,0\n",
    "lst = []\n",
    "\n",
    "\n",
    "\n",
    "while(l_1 < l1 or l_2 < l2):\n",
    "       \n",
    "    if(l_1 < l1 and l_2 < l2 ):  \n",
    "                 \n",
    "        if lst1[l_1] < lst2[l_2]:\n",
    "            lst.append(lst1[l_1])\n",
    "            # print(f\"1-{lst}\")\n",
    "            l_1 = l_1 + 1\n",
    "          \n",
    "        else:\n",
    "            \n",
    "            lst.append(lst2[l_2])\n",
    "            # print(f\"2-{lst}\")\n",
    "            l_2 = l_2 + 1\n",
    "            \n",
    "    elif(l_1 < l1):\n",
    "        lst.extend(lst1[l_1:])\n",
    "        break\n",
    "    else:\n",
    "        lst.extend(lst2[l_2:])\n",
    "        break\n",
    "\n",
    "print(lst)      \n",
    "        "
   ]
  },
  {
   "cell_type": "code",
   "execution_count": 69,
   "metadata": {},
   "outputs": [
    {
     "name": "stdout",
     "output_type": "stream",
     "text": [
      "Mode of List is 5\n"
     ]
    }
   ],
   "source": [
    "# 26. Implement a function to find the mode of a list of numbers.\n",
    "\n",
    "lst = [1,2,3,4,3,4,5,5,6]\n",
    "\n",
    "Tv = dict(Counter(lst))\n",
    "\n",
    "# print(zip(Tv.values(), Tv.keys()))\n",
    "Keymax = max(zip(Tv.values(), Tv.keys()))[1]\n",
    "\n",
    "# Keymax = max(Tv, key= lambda x: Tv[x])\n",
    "\n",
    "print(f\"Mode of List is {Keymax}\")\n"
   ]
  },
  {
   "cell_type": "code",
   "execution_count": 75,
   "metadata": {},
   "outputs": [
    {
     "name": "stdout",
     "output_type": "stream",
     "text": [
      "GCD of 18 and 27 is 9\n"
     ]
    }
   ],
   "source": [
    "# 27. Write a program to find the greatest common divisor (GCD) of two numbers.\n",
    "\n",
    "n1 = 18\n",
    "n2 = 27\n",
    "\n",
    "l = min(n1,n2)#for loop len\n",
    "\n",
    "gcd = 1 # by default greatest gcd will be 1\n",
    "\n",
    "for i in range(2,l):\n",
    "    if ((n1 % i) == 0) and ((n2 % i) == 0) and (gcd < i):\n",
    "        gcd = i\n",
    "\n",
    "print(f\"GCD of {n1} and {n2} is {gcd}\")\n",
    "        \n",
    "\n"
   ]
  },
  {
   "cell_type": "code",
   "execution_count": 80,
   "metadata": {},
   "outputs": [
    {
     "name": "stdout",
     "output_type": "stream",
     "text": [
      "4\n"
     ]
    }
   ],
   "source": [
    "# 28. Implement a function to calculate the square root of a given number.\n",
    "\n",
    "n1=16\n",
    "\n",
    "def calculate_square(n1):\n",
    "    root = 0\n",
    "    i = 1\n",
    "\n",
    "    while i<=n1:\n",
    "        if ((i * i) == n1):\n",
    "            return i \n",
    "        else:\n",
    "            i=i+1\n",
    "    return \"Not Found\"\n",
    "        \n",
    "print(calculate_square(n1))"
   ]
  },
  {
   "cell_type": "code",
   "execution_count": 91,
   "metadata": {},
   "outputs": [
    {
     "name": "stdout",
     "output_type": "stream",
     "text": [
      "mom is a palindrome word...\n"
     ]
    }
   ],
   "source": [
    "# 29. Write a Python program to check if a given string is a valid palindrome ignoring non-alphanumeric characters.\n",
    "\n",
    "s1 = \"mom\"\n",
    "\n",
    "# print(reversed(s1).join(\" \"))\n",
    "\n",
    "if s1 == s1[::-1]:\n",
    "    print(f\"{s1} is a palindrome word...\")\n",
    "else:\n",
    "    print(f\"{s1} is not a palindrome word..\")"
   ]
  },
  {
   "cell_type": "code",
   "execution_count": 96,
   "metadata": {},
   "outputs": [
    {
     "name": "stdout",
     "output_type": "stream",
     "text": [
      "1\n"
     ]
    }
   ],
   "source": [
    "# 30. Implement a function to find the minimum element in a rotated sorted list.\n",
    "\n",
    "def findMin(arr, N):\n",
    "    min_ele = arr[0];\n",
    "    \n",
    "    for i in range(1,N) :\n",
    "        if arr[i] < min_ele :\n",
    "            min_ele = arr[i]\n",
    " \n",
    "    return min_ele;\n",
    " \n",
    "# Driver program\n",
    "arr = [5, 6, 1, 2, 3, 4]\n",
    "N = len(arr)\n",
    " \n",
    "print(findMin(arr,N))"
   ]
  },
  {
   "cell_type": "code",
   "execution_count": null,
   "metadata": {},
   "outputs": [
    {
     "name": "stdout",
     "output_type": "stream",
     "text": [
      "sum of all even=12\n"
     ]
    }
   ],
   "source": [
    "# 31. Write a program to find the sum of all even numbers in a list.\n",
    "lst = [1,2,3,4,5,6,7]\n",
    "sum = 0\n",
    "\n",
    "for i in range(0,len(lst)):\n",
    "    if (lst[i] % 2)==0:\n",
    "        sum = sum + lst[i]\n",
    "        \n",
    "print(f\"sum of all even={sum}\")        "
   ]
  },
  {
   "cell_type": "code",
   "execution_count": null,
   "metadata": {},
   "outputs": [],
   "source": [
    "# 32. Implement a function to calculate the power of a number using recursion.\n",
    "\n",
    "def power_number(num, pow):\n",
    "    if pow == 1:\n",
    "        return num\n",
    "    \n",
    "    return num * power_number(num, pow-1)\n",
    "        \n",
    "print(power_number(2,2))"
   ]
  },
  {
   "cell_type": "code",
   "execution_count": 21,
   "metadata": {},
   "outputs": [
    {
     "name": "stdout",
     "output_type": "stream",
     "text": [
      "[1, 2, 3, 4, 5, 6, 7]\n"
     ]
    }
   ],
   "source": [
    "# 33. Write a Python program to remove duplicates from a list while preserving the order.\n",
    "\n",
    "lst = [1,2,3,3,4,4,5,6,7]\n",
    "l = []\n",
    "n = len(lst)\n",
    "i=0\n",
    "while i < n:\n",
    "    # print(f\"i=={i} lst--- {lst[i]}\")\n",
    "    if lst[i] != lst[i-1]:\n",
    "        l.append(lst[i])\n",
    "        i=i+1\n",
    "        # print(\"appending\")\n",
    "        continue\n",
    "    else:\n",
    "        if(i == n-1 and lst[i] != lst[i-1]):\n",
    "            l.append(lst[i])\n",
    "            \n",
    "        # print(f\"it=={i}\")\n",
    "        i= i + 1         \n",
    "        \n",
    "print(l) "
   ]
  },
  {
   "cell_type": "code",
   "execution_count": 64,
   "metadata": {},
   "outputs": [
    {
     "name": "stdout",
     "output_type": "stream",
     "text": [
      "Prefix in list of string ['hello', 'hello india', 'hello world'] is hello\n"
     ]
    }
   ],
   "source": [
    "# 34. Implement a function to find the longest common prefix among a list of strings.\n",
    "\n",
    "lst = [\"hello\",\"hello india\",\"hello world\"]\n",
    "\n",
    "small_str = min(filter(lambda s:len(s) , lst)) # finding smallest string.. for iteration\n",
    "#hel\n",
    "found=0\n",
    "found_str = \"\"\n",
    "\n",
    "for i in range(0,len(small_str)):       \n",
    "    for s in lst:    \n",
    "        if small_str[i] == s[i]:\n",
    "            found = found + 1 # flag for each element \n",
    "            continue\n",
    "        else:\n",
    "            break\n",
    "    if found == len(lst): # index of small_Str found in all element.. go for next..\n",
    "        found_str = found_str + small_str[i]\n",
    "        found = 0\n",
    "            \n",
    "        \n",
    "print(f\"Prefix in list of string {lst} is {found_str}\")"
   ]
  },
  {
   "cell_type": "code",
   "execution_count": 72,
   "metadata": {},
   "outputs": [
    {
     "name": "stdout",
     "output_type": "stream",
     "text": [
      "121 is a perfect square..\n"
     ]
    }
   ],
   "source": [
    "# 35. Write a program to check if a given number is a perfect square.\n",
    "import math\n",
    "n = 121\n",
    "\n",
    "\n",
    "r = int(math.sqrt(n)) # taking int of square root of a number...\n",
    "\n",
    "if ((r*r) == n ):\n",
    "    print(f\"{n} is a perfect square..\")\n",
    "else:\n",
    "    print(f\"{n} is not a perfect square..\")"
   ]
  },
  {
   "cell_type": "code",
   "execution_count": 77,
   "metadata": {},
   "outputs": [
    {
     "name": "stdout",
     "output_type": "stream",
     "text": [
      "Porduct of [1, 2, 3, 4, 5] is 120\n"
     ]
    }
   ],
   "source": [
    "# 36. Implement a function to calculate the product of all elements in a list.\n",
    "\n",
    "lst = [1,2,3,4,5]\n",
    "p = 1\n",
    "for i in lst:\n",
    "    p = p*i\n",
    "    \n",
    "print(f\"Porduct of {lst} is {p}\")"
   ]
  },
  {
   "cell_type": "code",
   "execution_count": 87,
   "metadata": {},
   "outputs": [
    {
     "name": "stdout",
     "output_type": "stream",
     "text": [
      "siht si aidni \n"
     ]
    }
   ],
   "source": [
    "# 37. Write a Python program to reverse the order of words in a sentence while preserving the word order.\n",
    "\n",
    "sent = \"this is india\"\n",
    "\n",
    "new_sent = \"\"\n",
    "for i in sent.split(\" \"):\n",
    "    new_sent = new_sent + i[::-1] + \" \"\n",
    "    \n",
    "print(new_sent)"
   ]
  },
  {
   "cell_type": "code",
   "execution_count": 89,
   "metadata": {},
   "outputs": [
    {
     "name": "stdout",
     "output_type": "stream",
     "text": [
      "missing number is 5\n",
      "missing number is 7\n"
     ]
    }
   ],
   "source": [
    "# 38. Implement a function to find the missing number in a given list of consecutive numbers.\n",
    "\n",
    "lst = [4,6,8,9]\n",
    "\n",
    "for i in range(1,len(lst)):\n",
    "    if ((lst[i]-1) != lst[i-1]):\n",
    "        print(f\"missing number is {lst[i-1]+1}\")\n",
    "    "
   ]
  },
  {
   "cell_type": "code",
   "execution_count": 108,
   "metadata": {},
   "outputs": [
    {
     "name": "stdout",
     "output_type": "stream",
     "text": [
      "15\n"
     ]
    }
   ],
   "source": [
    "# 39. Write a program to find the sum of digits of a given number.\n",
    "n = 12345\n",
    "s = 0\n",
    "num = n\n",
    "\n",
    "while(math.ceil(num/10)!=0):\n",
    "    s = s + int(num%10)\n",
    "    num = int(num / 10)\n",
    "        \n",
    "print(s)\n",
    "    "
   ]
  },
  {
   "cell_type": "code",
   "execution_count": 112,
   "metadata": {},
   "outputs": [
    {
     "name": "stdout",
     "output_type": "stream",
     "text": [
      "Mom is not a palindrome word..\n"
     ]
    }
   ],
   "source": [
    "# 40. Implement a function to check if a given string is a valid palindrome considering case sensitivity.\n",
    "\n",
    "def ispalindrome(s1): \n",
    "    # s1 = s1.lower()\n",
    "    if s1 == s1[::-1]:\n",
    "        print(f\"{s1} is a palindrome word...\")\n",
    "    else:\n",
    "        print(f\"{s1} is not a palindrome word..\")\n",
    "        \n",
    "ispalindrome(\"Mom\")"
   ]
  },
  {
   "cell_type": "code",
   "execution_count": 117,
   "metadata": {},
   "outputs": [
    {
     "name": "stdout",
     "output_type": "stream",
     "text": [
      "missing number is 1\n",
      "missing number is 3\n"
     ]
    }
   ],
   "source": [
    "# 41. Write a Python program to find the smallest missing positive integer in a list.\n",
    "\n",
    "lst = [-2,0,2,4,5]\n",
    "\n",
    "for i in range(1,len(lst)):\n",
    "    if ((lst[i]-1) != lst[i-1] and (lst[i-1]+1 > 0)):\n",
    "        print(f\"missing number is {lst[i-1]+1}\")\n",
    "        "
   ]
  },
  {
   "cell_type": "code",
   "execution_count": 124,
   "metadata": {},
   "outputs": [
    {
     "name": "stdout",
     "output_type": "stream",
     "text": [
      "laccal\n"
     ]
    }
   ],
   "source": [
    "# 42. Implement a function to find the longest palindrome substring in a given string.\n",
    "s = \"helloabccdahello\"\n",
    "palin = \"\"\n",
    "for i in range(0,len(s)): #counter from start\n",
    "    start = i\n",
    "    end = len(s)-i-1\n",
    "    \n",
    "    if s[start] == s[end]:\n",
    "        palin = palin + s[start]    \n",
    "        \n",
    "print(palin)"
   ]
  },
  {
   "cell_type": "code",
   "execution_count": 129,
   "metadata": {},
   "outputs": [
    {
     "name": "stdout",
     "output_type": "stream",
     "text": [
      "Counter({3: 3, 1: 1, 2: 1, 4: 1, 5: 1, 6: 1})\n",
      "{1: 1, 2: 1, 3: 3, 4: 1, 5: 1, 6: 1}\n"
     ]
    }
   ],
   "source": [
    "# 43. Write a program to find the number of occurrences of a given element in a list.\n",
    "from collections import Counter\n",
    "\n",
    "lst = [1,2,3,3,3,4,5,6]\n",
    "\n",
    "print(Counter(lst))\n",
    "\n",
    "### --- or --\n",
    "\n",
    "my_dict = dict()\n",
    "for i in lst:\n",
    "    # print(i)\n",
    "    try:\n",
    "        my_dict[i] = my_dict[i] + 1\n",
    "    except KeyError:\n",
    "        my_dict[i] = 1\n",
    "        \n",
    "print(my_dict)   \n"
   ]
  },
  {
   "cell_type": "code",
   "execution_count": 136,
   "metadata": {},
   "outputs": [
    {
     "name": "stdout",
     "output_type": "stream",
     "text": [
      "Number is perfect\n"
     ]
    }
   ],
   "source": [
    "# 44. Implement a function to check if a given number is a perfect number.\n",
    "\n",
    "def isperfect_num(x):\n",
    "    lst = [1]\n",
    "    for i in range(2,x):\n",
    "        if(x%i) == 0:\n",
    "            lst.append(i)\n",
    "    s = sum(lst)\n",
    "    if (s == x):\n",
    "        return True\n",
    "    else:\n",
    "        return False\n",
    "\n",
    "\n",
    "n = int(input(\"Enter number for isperfect function:\"))\n",
    "print(\"Number is perfect\") if isperfect_num(n) else print(\"Number is not perfect\") "
   ]
  },
  {
   "cell_type": "code",
   "execution_count": 185,
   "metadata": {},
   "outputs": [
    {
     "name": "stdout",
     "output_type": "stream",
     "text": [
      "helo\n"
     ]
    }
   ],
   "source": [
    "# 45. Write a Python program to remove all duplicates from a string.\n",
    "\n",
    "s = \"hello\"\n",
    "new_s = \"\"\n",
    "for i in s:\n",
    "    if i not in new_s:\n",
    "        new_s = new_s + i\n",
    "\n",
    "print(new_s)\n"
   ]
  },
  {
   "cell_type": "code",
   "execution_count": 186,
   "metadata": {},
   "outputs": [
    {
     "name": "stdout",
     "output_type": "stream",
     "text": [
      "missing number is 1\n"
     ]
    }
   ],
   "source": [
    "# 46. Implement a function to find the first missing positive\n",
    "lst = [-2,0,2,4,5]\n",
    "\n",
    "for i in range(1,len(lst)):\n",
    "    if ((lst[i]-1) != lst[i-1] and (lst[i-1]+1 > 0)):\n",
    "        print(f\"missing number is {lst[i-1]+1}\")\n",
    "        break"
   ]
  },
  {
   "cell_type": "code",
   "execution_count": 187,
   "metadata": {},
   "outputs": [
    {
     "name": "stdout",
     "output_type": "stream",
     "text": [
      "None\n"
     ]
    }
   ],
   "source": [
    "my_dict = {\"name\": \"John\", \"age\": 25}\n",
    "\n",
    "print(my_dict.get(\"city\"))"
   ]
  },
  {
   "cell_type": "code",
   "execution_count": null,
   "metadata": {},
   "outputs": [],
   "source": []
  }
 ],
 "metadata": {
  "kernelspec": {
   "display_name": "base",
   "language": "python",
   "name": "python3"
  },
  "language_info": {
   "codemirror_mode": {
    "name": "ipython",
    "version": 3
   },
   "file_extension": ".py",
   "mimetype": "text/x-python",
   "name": "python",
   "nbconvert_exporter": "python",
   "pygments_lexer": "ipython3",
   "version": "3.9.13"
  },
  "orig_nbformat": 4
 },
 "nbformat": 4,
 "nbformat_minor": 2
}
