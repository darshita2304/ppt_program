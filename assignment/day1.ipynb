{
 "cells": [
  {
   "cell_type": "code",
   "execution_count": 1,
   "metadata": {},
   "outputs": [
    {
     "data": {
      "text/plain": [
       "'olleh'"
      ]
     },
     "execution_count": 1,
     "metadata": {},
     "output_type": "execute_result"
    }
   ],
   "source": [
    "# 1. Write a Python program to reverse a string without using any built-in string reversal functions.\n",
    "s = \"hello\"\n",
    "s[::-1]"
   ]
  },
  {
   "cell_type": "code",
   "execution_count": 2,
   "metadata": {},
   "outputs": [
    {
     "name": "stdout",
     "output_type": "stream",
     "text": [
      "String is palindrom\n"
     ]
    }
   ],
   "source": [
    "# 2. Implement a function to check if a given string is a palindrome.\n",
    "s = \"momom\"\n",
    "\n",
    "ispalin = True\n",
    "\n",
    "for front in range(0,int(len(s)/2)):\n",
    "    if (s[front] == s[(len(s)-(front+1))]):\n",
    "            continue\n",
    "    else:\n",
    "        ispalin = False\n",
    "        break;\n",
    "    \n",
    "print(\"String is palindrom\") if ispalin else print(\"String is not palindrom\") "
   ]
  },
  {
   "cell_type": "code",
   "execution_count": 3,
   "metadata": {},
   "outputs": [
    {
     "name": "stdout",
     "output_type": "stream",
     "text": [
      "maximum = 9\n"
     ]
    }
   ],
   "source": [
    "# 3. Write a program to find the largest element in a given list.\n",
    "lst = [3,6,2,6,9]\n",
    "\n",
    "maxi = 0\n",
    "\n",
    "for i in lst:\n",
    "    maxi = i if i>maxi else maxi\n",
    "    \n",
    "print(\"maximum = {}\".format(maxi))"
   ]
  },
  {
   "cell_type": "code",
   "execution_count": 4,
   "metadata": {},
   "outputs": [
    {
     "name": "stdout",
     "output_type": "stream",
     "text": [
      "{1: 1, 2: 1, 3: 2, 4: 1, 5: 2}\n",
      "the element 1 occurs 2 times\n",
      "the element 2 occurs 3 times\n",
      "the element 3 occurs 2 times\n",
      "the element 4 occurs 2 times\n",
      "the element 5 occurs 2 times\n"
     ]
    }
   ],
   "source": [
    "# 4. Implement a function to count the occurrence of each element in a list\n",
    "lst = [1,2,3,3,4,5,5]\n",
    "\n",
    "my_dict = dict()\n",
    "\n",
    "for i in lst:\n",
    "    # print(i)\n",
    "    try:\n",
    "        my_dict[i] = my_dict[i] + 1\n",
    "    except KeyError:\n",
    "        my_dict[i] = 1\n",
    "        \n",
    "print(my_dict)\n",
    "\n",
    "##2nd way\n",
    "\n",
    "l = [1, 1, 2, 2, 2, 3, 3, 4, 4, 5, 5]\n",
    "# ele=1\n",
    "for j in set(l):\n",
    "    x=[i for i in l if i==j]\n",
    "    print(\"the element\",j,\"occurs\",len(x),\"times\")\n",
    "\n"
   ]
  },
  {
   "cell_type": "code",
   "execution_count": 5,
   "metadata": {},
   "outputs": [
    {
     "name": "stdout",
     "output_type": "stream",
     "text": [
      "12\n"
     ]
    }
   ],
   "source": [
    "# 5. Write a Python program to find the second largest number in a list.\n",
    "lst = [5,6,9,5,6,12,67]\n",
    "\n",
    "maxi = 0\n",
    "lst.sort()\n",
    "\n",
    "print(lst[len(lst) - 2])"
   ]
  },
  {
   "cell_type": "code",
   "execution_count": 6,
   "metadata": {},
   "outputs": [
    {
     "data": {
      "text/plain": [
       "[5, 6, 9, 12, 67]"
      ]
     },
     "execution_count": 6,
     "metadata": {},
     "output_type": "execute_result"
    }
   ],
   "source": [
    "# 6. Implement a function to remove duplicate elements from a list.\n",
    "lst = [5,6,9,5,6,12,67]\n",
    "\n",
    "def remove_duplicate(lst):\n",
    "    return set(lst)\n",
    "\n",
    "\n",
    "def remove_duplicate_(lst):\n",
    "    lst.sort()\n",
    "    \n",
    "    new_lst = []\n",
    "    [new_lst.append(i) for i in lst if i not in new_lst]\n",
    "    return new_lst\n",
    "\n",
    "remove_duplicate(lst)\n",
    "\n",
    "remove_duplicate_(lst)\n"
   ]
  },
  {
   "cell_type": "code",
   "execution_count": 7,
   "metadata": {},
   "outputs": [
    {
     "name": "stdout",
     "output_type": "stream",
     "text": [
      "Factorial of 12 is 479001600\n"
     ]
    }
   ],
   "source": [
    "# 7. Write a program to calculate the factorial of a given number.\n",
    "\n",
    "x = int(input(\"Enter number for factorial\"))\n",
    "\n",
    "ans = 1\n",
    "for i in range(1,x+1):\n",
    "    ans = ans * i\n",
    "    \n",
    "print(\"Factorial of {} is {}\".format(x,ans))"
   ]
  },
  {
   "cell_type": "code",
   "execution_count": 8,
   "metadata": {},
   "outputs": [
    {
     "name": "stdout",
     "output_type": "stream",
     "text": [
      "Number is prime\n"
     ]
    }
   ],
   "source": [
    "# 8. Implement a function to check if a given number is prime.\n",
    "\n",
    "x = int(input(\"Enter number for factorial\"))\n",
    "\n",
    "isTrue = False\n",
    "\n",
    "for i in range(2,x):\n",
    "    if(x%i) == 0:\n",
    "        isTrue = True\n",
    "        break\n",
    "        \n",
    "print(\"Number is not prime\") if isTrue else print(\"Number is prime\") "
   ]
  },
  {
   "cell_type": "code",
   "execution_count": 9,
   "metadata": {},
   "outputs": [
    {
     "name": "stdout",
     "output_type": "stream",
     "text": [
      "[-2, -1, 0, 1, 2, 3, 4]\n"
     ]
    }
   ],
   "source": [
    "# 9. Write a Python program to sort a list of integers in ascending order.\n",
    "\n",
    "my_list = [4, 2, 3, -1, -2, 0, 1]\n",
    "\n",
    "for i in range(len(my_list)):\n",
    "    for j in range(i + 1, len(my_list)):\n",
    "\n",
    "        if my_list[i] > my_list[j]:\n",
    "            my_list[i], my_list[j] = my_list[j], my_list[i]\n",
    "\n",
    "print(my_list)"
   ]
  },
  {
   "cell_type": "code",
   "execution_count": 10,
   "metadata": {},
   "outputs": [
    {
     "name": "stdout",
     "output_type": "stream",
     "text": [
      "7\n"
     ]
    }
   ],
   "source": [
    "# 10. Implement a function to find the sum of all numbers in a list.\n",
    "my_list = [4, 2, 3, -1, -2, 0, 1]\n",
    "\n",
    "res = 0\n",
    "\n",
    "for i in range(len(my_list)):\n",
    "    res = res + my_list[i]\n",
    "    \n",
    "print(res)"
   ]
  },
  {
   "cell_type": "code",
   "execution_count": 11,
   "metadata": {},
   "outputs": [
    {
     "name": "stdout",
     "output_type": "stream",
     "text": [
      "[4, -1, 0, 1]\n"
     ]
    }
   ],
   "source": [
    "# 11. Write a program to find the common elements between two lists.\n",
    "\n",
    "my_list1 = [4, 2, 3, -1, -2, 0, 1]\n",
    "\n",
    "my_list2 = [21, 31, -1, -21, 0, 1,4]\n",
    "\n",
    "common_list = []\n",
    "\n",
    "for i in my_list1:\n",
    "    for j in my_list2:\n",
    "        if i == j:\n",
    "            common_list.append(i)\n",
    "            \n",
    "print(common_list)            "
   ]
  },
  {
   "cell_type": "code",
   "execution_count": 12,
   "metadata": {},
   "outputs": [
    {
     "name": "stdout",
     "output_type": "stream",
     "text": [
      "The strings are anagrams.\n"
     ]
    }
   ],
   "source": [
    "# 12. Implement a function to check if a given string is an anagram of another string.\n",
    "\n",
    "from collections import Counter\n",
    " \n",
    "def check(s1, s2):\n",
    "    if(Counter(s1) == Counter(s2)):\n",
    "        print(\"The strings are anagrams.\")\n",
    "    else:\n",
    "        print(\"The strings aren't anagrams.\")\n",
    " \n",
    " \n",
    "\n",
    "s1 = \"listen\"\n",
    "s2 = \"silent\"\n",
    "check(s1, s2)\n",
    "\n",
    "# print(Counter(s1))\n",
    "    "
   ]
  },
  {
   "cell_type": "code",
   "execution_count": 13,
   "metadata": {},
   "outputs": [
    {
     "name": "stdout",
     "output_type": "stream",
     "text": [
      "All possible strings are : \n",
      "asd  ads  sad  sda  das  dsa  "
     ]
    }
   ],
   "source": [
    "# 13. Write a Python program to generate all permutations of a given string.\n",
    "\n",
    "def permute(s, answer):\n",
    "    if (len(s) == 0):\n",
    "        print(answer, end = \"  \")\n",
    "        return\n",
    "     \n",
    "    for i in range(len(s)):\n",
    "        ch = s[i]\n",
    "        left_substr = s[0:i]\n",
    "        right_substr = s[i + 1:]\n",
    "        rest = left_substr + right_substr\n",
    "        permute(rest, answer + ch)\n",
    " \n",
    "# Driver Code\n",
    "answer = \"\"\n",
    "s = input(\"Enter the string : \")\n",
    "print(\"All possible strings are : \")\n",
    "permute(s, answer)  \n",
    "    "
   ]
  },
  {
   "cell_type": "code",
   "execution_count": 14,
   "metadata": {},
   "outputs": [
    {
     "name": "stdout",
     "output_type": "stream",
     "text": [
      "[0, 1, 1, 2, 3, 5, 8, 13, 21, 34]\n"
     ]
    }
   ],
   "source": [
    "# 14. Implement a function to calculate the Fibonacci sequence up to a given number of terms.\n",
    "\n",
    "fibo = [0,1]\n",
    "\n",
    "def generate_fibonacci(n):\n",
    "    if(n == 2):\n",
    "        print(fibo)\n",
    "    else:\n",
    "        num = fibo[len(fibo)-1] + fibo[len(fibo)-2]\n",
    "        fibo.append(num)\n",
    "        generate_fibonacci(n-1)\n",
    "        \n",
    "        \n",
    "generate_fibonacci(10)"
   ]
  },
  {
   "cell_type": "code",
   "execution_count": 15,
   "metadata": {},
   "outputs": [
    {
     "name": "stdout",
     "output_type": "stream",
     "text": [
      "[1, 2, 3, 4, 5, 6, 7, 8, 9]\n",
      "5\n"
     ]
    }
   ],
   "source": [
    "# 15. Write a program to find the median of a list of numbers.\n",
    "\n",
    "lst = [1,2,3,4,5,6,7,8,9]\n",
    "\n",
    "lst = sorted(lst)\n",
    "\n",
    "print(lst)\n",
    "\n",
    "ind = int(len(lst)/2)\n",
    "med = len(lst)%2\n",
    "\n",
    "# print(ind)\n",
    "\n",
    "if med == 0:\n",
    "    median = (lst[ind] + lst[ind+1])/2\n",
    "else:\n",
    "    median = lst[ind]\n",
    "    \n",
    "print(median)"
   ]
  },
  {
   "cell_type": "code",
   "execution_count": 16,
   "metadata": {},
   "outputs": [
    {
     "name": "stdout",
     "output_type": "stream",
     "text": [
      "List is not in non-decreasing\n"
     ]
    }
   ],
   "source": [
    "# 16. Implement a function to check if a given list is sorted in non-decreasing order.\n",
    "\n",
    "def check_ascending(lst):\n",
    "    \n",
    "    for i in range(0,len(lst)-1):\n",
    "        if(lst[i]<=lst[i+1]):\n",
    "            continue\n",
    "        else:\n",
    "            return False\n",
    "    return True\n",
    "    \n",
    "        \n",
    "inOrder = check_ascending([1,7,2,3,4])\n",
    "\n",
    "print(\"List is in non-decreasing\") if inOrder else print(\"List is not in non-decreasing\") "
   ]
  },
  {
   "cell_type": "code",
   "execution_count": 17,
   "metadata": {},
   "outputs": [
    {
     "name": "stdout",
     "output_type": "stream",
     "text": [
      "[1, 2, 3, 4, 5, 9]\n"
     ]
    }
   ],
   "source": [
    "# 17. Write a Python program to find the intersection of two lists.\n",
    "\n",
    "def common(lst1, lst2):\n",
    "    lst3 = [value for value in lst1 if value in lst2]\n",
    "    return lst3\n",
    " \n",
    "# Driver Code\n",
    "lst1 = [1,2,3,4,5,6,7,8,9]\n",
    "lst2 = [1,2,3,4,5,9]\n",
    "print(common(lst1, lst2))"
   ]
  },
  {
   "cell_type": "code",
   "execution_count": 27,
   "metadata": {},
   "outputs": [
    {
     "ename": "UnboundLocalError",
     "evalue": "local variable 'm' referenced before assignment",
     "output_type": "error",
     "traceback": [
      "\u001b[1;31m---------------------------------------------------------------------------\u001b[0m",
      "\u001b[1;31mUnboundLocalError\u001b[0m                         Traceback (most recent call last)",
      "\u001b[1;32m~\\AppData\\Local\\Temp\\ipykernel_16360\\3382207639.py\u001b[0m in \u001b[0;36m<module>\u001b[1;34m\u001b[0m\n\u001b[0;32m     20\u001b[0m \u001b[0mm\u001b[0m \u001b[1;33m=\u001b[0m \u001b[1;36m0\u001b[0m\u001b[1;33m\u001b[0m\u001b[1;33m\u001b[0m\u001b[0m\n\u001b[0;32m     21\u001b[0m \u001b[0mmaxArr\u001b[0m \u001b[1;33m=\u001b[0m \u001b[1;33m[\u001b[0m\u001b[1;33m]\u001b[0m\u001b[1;33m\u001b[0m\u001b[1;33m\u001b[0m\u001b[0m\n\u001b[1;32m---> 22\u001b[1;33m \u001b[0mfind_subarray\u001b[0m\u001b[1;33m(\u001b[0m\u001b[1;33m[\u001b[0m\u001b[1;33m-\u001b[0m\u001b[1;36m2\u001b[0m\u001b[1;33m,\u001b[0m \u001b[1;33m-\u001b[0m\u001b[1;36m3\u001b[0m\u001b[1;33m,\u001b[0m \u001b[1;36m4\u001b[0m\u001b[1;33m,\u001b[0m \u001b[1;33m-\u001b[0m\u001b[1;36m1\u001b[0m\u001b[1;33m,\u001b[0m \u001b[1;33m-\u001b[0m\u001b[1;36m2\u001b[0m\u001b[1;33m,\u001b[0m \u001b[1;36m1\u001b[0m\u001b[1;33m,\u001b[0m \u001b[1;36m5\u001b[0m\u001b[1;33m,\u001b[0m \u001b[1;33m-\u001b[0m\u001b[1;36m3\u001b[0m\u001b[1;33m]\u001b[0m\u001b[1;33m)\u001b[0m\u001b[1;33m\u001b[0m\u001b[1;33m\u001b[0m\u001b[0m\n\u001b[0m",
      "\u001b[1;32m~\\AppData\\Local\\Temp\\ipykernel_16360\\3382207639.py\u001b[0m in \u001b[0;36mfind_subarray\u001b[1;34m(lst)\u001b[0m\n\u001b[0;32m      9\u001b[0m     \u001b[1;32mfor\u001b[0m \u001b[0mi\u001b[0m \u001b[1;32min\u001b[0m \u001b[0mrange\u001b[0m\u001b[1;33m(\u001b[0m\u001b[1;36m0\u001b[0m\u001b[1;33m,\u001b[0m\u001b[0mlen\u001b[0m\u001b[1;33m(\u001b[0m\u001b[0mlst\u001b[0m\u001b[1;33m)\u001b[0m\u001b[1;33m)\u001b[0m\u001b[1;33m:\u001b[0m\u001b[1;33m\u001b[0m\u001b[1;33m\u001b[0m\u001b[0m\n\u001b[0;32m     10\u001b[0m \u001b[1;33m\u001b[0m\u001b[0m\n\u001b[1;32m---> 11\u001b[1;33m         \u001b[1;32mif\u001b[0m \u001b[1;33m(\u001b[0m\u001b[0msum\u001b[0m\u001b[1;33m(\u001b[0m\u001b[0mlst\u001b[0m\u001b[1;33m[\u001b[0m\u001b[0mi\u001b[0m\u001b[1;33m:\u001b[0m\u001b[1;33m(\u001b[0m\u001b[0mlen\u001b[0m\u001b[1;33m(\u001b[0m\u001b[0mlst\u001b[0m\u001b[1;33m)\u001b[0m\u001b[1;33m-\u001b[0m\u001b[1;36m1\u001b[0m\u001b[1;33m)\u001b[0m\u001b[1;33m]\u001b[0m\u001b[1;33m)\u001b[0m\u001b[1;33m)\u001b[0m\u001b[1;33m>\u001b[0m \u001b[0mm\u001b[0m \u001b[1;33m:\u001b[0m \u001b[1;31m# triming from starting from array\u001b[0m\u001b[1;33m\u001b[0m\u001b[1;33m\u001b[0m\u001b[0m\n\u001b[0m\u001b[0;32m     12\u001b[0m             \u001b[0mm\u001b[0m \u001b[1;33m=\u001b[0m \u001b[0msum\u001b[0m\u001b[1;33m(\u001b[0m\u001b[0mlst\u001b[0m\u001b[1;33m[\u001b[0m\u001b[0mi\u001b[0m\u001b[1;33m:\u001b[0m\u001b[1;33m(\u001b[0m\u001b[0mlen\u001b[0m\u001b[1;33m(\u001b[0m\u001b[0mlst\u001b[0m\u001b[1;33m)\u001b[0m\u001b[1;33m-\u001b[0m\u001b[1;36m1\u001b[0m\u001b[1;33m)\u001b[0m\u001b[1;33m]\u001b[0m\u001b[1;33m)\u001b[0m\u001b[1;33m\u001b[0m\u001b[1;33m\u001b[0m\u001b[0m\n\u001b[0;32m     13\u001b[0m             \u001b[0mmaxArr\u001b[0m \u001b[1;33m=\u001b[0m \u001b[0mlist\u001b[0m\u001b[1;33m(\u001b[0m\u001b[0mlst\u001b[0m\u001b[1;33m[\u001b[0m\u001b[0mi\u001b[0m\u001b[1;33m:\u001b[0m\u001b[1;33m(\u001b[0m\u001b[0mlen\u001b[0m\u001b[1;33m(\u001b[0m\u001b[0mlst\u001b[0m\u001b[1;33m)\u001b[0m\u001b[1;33m-\u001b[0m\u001b[1;36m1\u001b[0m\u001b[1;33m)\u001b[0m\u001b[1;33m]\u001b[0m\u001b[1;33m)\u001b[0m\u001b[1;33m\u001b[0m\u001b[1;33m\u001b[0m\u001b[0m\n",
      "\u001b[1;31mUnboundLocalError\u001b[0m: local variable 'm' referenced before assignment"
     ]
    }
   ],
   "source": [
    "# 18. Implement a function to find the maximum subarray sum in a given list.\n",
    "\n",
    "# sum = {}\n",
    "\n",
    "\n",
    "\n",
    "def find_subarray(lst):\n",
    "    \n",
    "    for i in range(0,len(lst)):\n",
    "        \n",
    "        if (sum(lst[i:(len(lst)-1)]))> m : # triming from starting from array\n",
    "            m = sum(lst[i:(len(lst)-1)])\n",
    "            maxArr = list(lst[i:(len(lst)-1)])    \n",
    "        if (sum(lst[0:(len(lst)-i-1)]))>m: # triming from ending..\n",
    "            m = (sum(lst[0:(len(lst)-i-1)]))\n",
    "            marArr = list(lst[0:(len(lst)-i-1)])         \n",
    "    \n",
    "    print(\"Maximum subarray sum is {} and Array is {}\".format(m, maxArr))\n",
    "\n",
    "m = 0\n",
    "maxArr = []    \n",
    "find_subarray([-2, -3, 4, -1, -2, 1, 5, -3])"
   ]
  },
  {
   "cell_type": "code",
   "execution_count": null,
   "metadata": {},
   "outputs": [],
   "source": []
  },
  {
   "cell_type": "code",
   "execution_count": null,
   "metadata": {},
   "outputs": [],
   "source": []
  },
  {
   "cell_type": "code",
   "execution_count": null,
   "metadata": {},
   "outputs": [],
   "source": []
  },
  {
   "cell_type": "code",
   "execution_count": 19,
   "metadata": {},
   "outputs": [
    {
     "ename": "SyntaxError",
     "evalue": "invalid syntax (3159521850.py, line 1)",
     "output_type": "error",
     "traceback": [
      "\u001b[1;36m  File \u001b[1;32m\"C:\\Users\\Darshi\\AppData\\Local\\Temp\\ipykernel_16360\\3159521850.py\"\u001b[1;36m, line \u001b[1;32m1\u001b[0m\n\u001b[1;33m    19. Write a program to remove all vowels from a given string.\u001b[0m\n\u001b[1;37m        ^\u001b[0m\n\u001b[1;31mSyntaxError\u001b[0m\u001b[1;31m:\u001b[0m invalid syntax\n"
     ]
    }
   ],
   "source": [
    "\n",
    "\n",
    "19. Write a program to remove all vowels from a given string.\n",
    "20. Implement a function to reverse the order of words in a given sentence.\n",
    "21. Write a Python program to check if two strings are anagrams of each other.\n",
    "22. Implement a function to find the first non-repeating character in a string.\n",
    "23. Write a program to find the prime factors of a given number.\n",
    "24. Implement a function to check if a given number is a power of two.\n",
    "25. Write a Python program to merge two sorted lists into a single sorted list.\n",
    "26. Implement a function to find the mode of a list of numbers.\n",
    "27. Write a program to find the greatest common divisor (GCD) of two numbers.\n",
    "28. Implement a function to calculate the square root of a given number.\n",
    "29. Write a Python program to check if a given string is a valid palindrome ignoring non-alphanumeric characters.\n",
    "30. Implement a function to find the minimum element in a rotated sorted list.\n",
    "31. Write a program to find the sum of all even numbers in a list.\n",
    "32. Implement a function to calculate the power of a number using recursion.\n",
    "33. Write a Python program to remove duplicates from a list while preserving the order.\n",
    "34. Implement a function to find the longest common prefix among a list of strings.\n",
    "35. Write a program to check if a given number is a perfect square.\n",
    "36. Implement a function to calculate the product of all elements in a list.\n",
    "37. Write a Python program to reverse the order of words in a sentence while preserving the word order.\n",
    "38. Implement a function to find the missing number in a given list of consecutive numbers.\n",
    "39. Write a program to find the sum of digits of a given number.\n",
    "40. Implement a function to check if a given string is a valid palindrome considering case sensitivity.\n",
    "41. Write a Python program to find the smallest missing positive integer in a list.\n",
    "42. Implement a function to find the longest palindrome substring in a given string.\n",
    "43. Write a program to find the number of occurrences of a given element in a list.\n",
    "44. Implement a function to check if a given number is a perfect number.\n",
    "45. Write a Python program to remove all duplicates from a string.\n",
    "46. Implement a function to find the first missing positive"
   ]
  },
  {
   "cell_type": "code",
   "execution_count": null,
   "metadata": {},
   "outputs": [],
   "source": []
  }
 ],
 "metadata": {
  "kernelspec": {
   "display_name": "base",
   "language": "python",
   "name": "python3"
  },
  "language_info": {
   "codemirror_mode": {
    "name": "ipython",
    "version": 3
   },
   "file_extension": ".py",
   "mimetype": "text/x-python",
   "name": "python",
   "nbconvert_exporter": "python",
   "pygments_lexer": "ipython3",
   "version": "3.9.13"
  },
  "orig_nbformat": 4
 },
 "nbformat": 4,
 "nbformat_minor": 2
}
