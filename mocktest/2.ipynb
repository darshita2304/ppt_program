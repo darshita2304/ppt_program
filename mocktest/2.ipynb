{
 "cells": [
  {
   "cell_type": "code",
   "execution_count": null,
   "metadata": {},
   "outputs": [],
   "source": [
    "# 18. Implement a decorator function called ‘timer’ that measures the execution time of a function. \n",
    "# The ‘timer’ decorator should print the time taken by the decorated function to execute. \n",
    "# Use the ‘time’ module in Python to calculate the execution time.\n",
    "\n",
    "# Example:\n",
    "\n",
    "# import time\n",
    "\n",
    "# @timer\n",
    "# def my_function():\n",
    "#     # Function code goes here\n",
    "#     time.sleep(2)\n",
    "\n",
    "# my_function()\n",
    "\n",
    "# Output:\n",
    "# \"Execution time: 2.00123 seconds\""
   ]
  },
  {
   "cell_type": "code",
   "execution_count": 2,
   "metadata": {},
   "outputs": [
    {
     "name": "stdout",
     "output_type": "stream",
     "text": [
      "do_something() executed in 0.000069s\n"
     ]
    }
   ],
   "source": [
    "from timeit import default_timer as timer\n",
    "\n",
    "def timer_func(func):\n",
    "    def wrapper(*args, **kwargs):\n",
    "        t1 = timer()\n",
    "        result = func(*args, **kwargs)\n",
    "        t2 = timer()\n",
    "        print(f'{func.__name__}() executed in {(t2-t1):.6f}s')\n",
    "        return result\n",
    "    return wrapper\n",
    "\n",
    "@timer_func\n",
    "def do_something():\n",
    "    for i in range(1000): i * i\n",
    "\n",
    "do_something()"
   ]
  }
 ],
 "metadata": {
  "kernelspec": {
   "display_name": "base",
   "language": "python",
   "name": "python3"
  },
  "language_info": {
   "codemirror_mode": {
    "name": "ipython",
    "version": 3
   },
   "file_extension": ".py",
   "mimetype": "text/x-python",
   "name": "python",
   "nbconvert_exporter": "python",
   "pygments_lexer": "ipython3",
   "version": "3.9.13"
  },
  "orig_nbformat": 4
 },
 "nbformat": 4,
 "nbformat_minor": 2
}
