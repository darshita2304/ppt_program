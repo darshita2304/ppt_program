{
 "cells": [
  {
   "cell_type": "code",
   "execution_count": null,
   "metadata": {},
   "outputs": [],
   "source": [
    "# 19. Write a function called ‘calculate_mean’ that takes a list of numbers as input and returns the mean (average) of the numbers. \n",
    "# The function should calculate the mean using the sum of the numbers divided by the total count.\n",
    "\n",
    "# Example:\n",
    "\n",
    "# def calculate_mean(numbers):\n",
    "#     total = sum(numbers)\n",
    "#     count = len(numbers)\n",
    "#     mean = total / count\n",
    "#     return mean\n",
    "\n",
    "# data = [10, 15, 20, 25, 30]\n",
    "# mean_value = calculate_mean(data)\n",
    "# print(\"Mean:\", mean_value)\n",
    "\n",
    "# Output:\n",
    "# Mean: 20.0"
   ]
  },
  {
   "cell_type": "code",
   "execution_count": 4,
   "metadata": {},
   "outputs": [
    {
     "name": "stdout",
     "output_type": "stream",
     "text": [
      "Mean: 20.0\n"
     ]
    }
   ],
   "source": [
    "\n",
    "\n",
    "def calculate_mean(data):\n",
    "    s = sum(data)\n",
    "    \n",
    "    m = s / len(data) \n",
    "    return m\n",
    "\n",
    "data = [10, 15, 20, 25, 30]\n",
    "mean_value = calculate_mean(data)\n",
    "print(\"Mean:\", mean_value)"
   ]
  },
  {
   "cell_type": "code",
   "execution_count": null,
   "metadata": {},
   "outputs": [],
   "source": []
  }
 ],
 "metadata": {
  "kernelspec": {
   "display_name": "base",
   "language": "python",
   "name": "python3"
  },
  "language_info": {
   "codemirror_mode": {
    "name": "ipython",
    "version": 3
   },
   "file_extension": ".py",
   "mimetype": "text/x-python",
   "name": "python",
   "nbconvert_exporter": "python",
   "pygments_lexer": "ipython3",
   "version": "3.9.13"
  },
  "orig_nbformat": 4
 },
 "nbformat": 4,
 "nbformat_minor": 2
}
